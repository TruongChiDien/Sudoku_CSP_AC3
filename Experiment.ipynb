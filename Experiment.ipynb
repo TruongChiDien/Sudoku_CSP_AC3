{
  "nbformat": 4,
  "nbformat_minor": 0,
  "metadata": {
    "colab": {
      "name": "Experiment.ipynb",
      "provenance": []
    },
    "kernelspec": {
      "display_name": "Python 3",
      "name": "python3"
    },
    "language_info": {
      "name": "python"
    }
  },
  "cells": [
    {
      "cell_type": "code",
      "metadata": {
        "colab": {
          "base_uri": "https://localhost:8080/"
        },
        "id": "wYzGhYGgODck",
        "outputId": "57346514-a846-4d17-ee44-6021adb66acd"
      },
      "source": [
        "!pwd\n"
      ],
      "execution_count": null,
      "outputs": [
        {
          "name": "stdout",
          "output_type": "stream",
          "text": [
            "/content\n"
          ]
        }
      ]
    },
    {
      "cell_type": "code",
      "metadata": {
        "colab": {
          "base_uri": "https://localhost:8080/"
        },
        "id": "bf8W57vXOQKZ",
        "outputId": "a847e440-8b94-4135-8c99-2aed43c92c79"
      },
      "source": [
        "!ls"
      ],
      "execution_count": null,
      "outputs": [
        {
          "name": "stdout",
          "output_type": "stream",
          "text": [
            "ac3.py\t      generate_input.py  sample_data  sudoku.py\n",
            "backtrack.py  heuristics.py\t solver.py    utils.py\n"
          ]
        }
      ]
    },
    {
      "cell_type": "code",
      "metadata": {
        "colab": {
          "base_uri": "https://localhost:8080/"
        },
        "id": "tO8bVHnOOR6_",
        "outputId": "9e7e13f4-5b05-42e0-a0e0-5c890f673386"
      },
      "source": [
        "!python solver.py --edge=6 --sample=1 --level=0.1"
      ],
      "execution_count": null,
      "outputs": [
        {
          "name": "stdout",
          "output_type": "stream",
          "text": [
            "\n",
            "Sudoku 1/1\n",
            "Creating...\n",
            "1/1 : AC3 starting\n",
            "\n",
            "-----Before AC-3\n",
            "Number of arcs: 123120\n",
            "Total values: 42631\n",
            "Size of largest domain: 36\n",
            "\n",
            "-----AC-3 take 262.3365128040314 ms\n",
            "\n",
            "-----After AC-3\n",
            "Total values: 0\n",
            "Size of largest domain: 0\n"
          ]
        }
      ]
    },
    {
      "cell_type": "code",
      "metadata": {
        "colab": {
          "base_uri": "https://localhost:8080/"
        },
        "id": "XO1RQFtEOZPn",
        "outputId": "a5290242-43c2-4156-8599-c2451f80a221"
      },
      "source": [
        "!python solver.py --edge=6 --sample=1 --level=0.1"
      ],
      "execution_count": null,
      "outputs": [
        {
          "name": "stdout",
          "output_type": "stream",
          "text": [
            "\n",
            "Sudoku 1/1\n",
            "Creating...\n",
            "1/1 : AC3 starting\n",
            "\n",
            "-----Before AC-3\n",
            "Number of arcs: 123120\n",
            "Total values: 42596\n",
            "Size of largest domain: 36\n",
            "\n",
            "-----AC-3 take 298.30515599250793 ms\n",
            "\n",
            "-----After AC-3\n",
            "Total values: 0\n",
            "Size of largest domain: 0\n"
          ]
        }
      ]
    },
    {
      "cell_type": "code",
      "metadata": {
        "colab": {
          "base_uri": "https://localhost:8080/"
        },
        "id": "XUPY2hRSRIR6",
        "outputId": "4dd87934-5853-40d7-a4c8-13c164b78aa1"
      },
      "source": [
        "!python solver.py --edge=7 --sample=1 --level=0.1"
      ],
      "execution_count": null,
      "outputs": [
        {
          "name": "stdout",
          "output_type": "stream",
          "text": [
            "\n",
            "Sudoku 1/1\n",
            "Creating...\n",
            "1/1 : AC3 starting\n",
            "\n",
            "-----Before AC-3\n",
            "Number of arcs: 316932\n",
            "Total values: 105409\n",
            "Size of largest domain: 49\n",
            "\n",
            "-----AC-3 take 3617.616739988327 ms\n",
            "\n",
            "-----After AC-3\n",
            "Total values: 0\n",
            "Size of largest domain: 0\n"
          ]
        }
      ]
    },
    {
      "cell_type": "markdown",
      "metadata": {
        "id": "JTnVGcrltJNp"
      },
      "source": [
        "\n",
        "Sudoku 1/1\n",
        "Creating...\n",
        "1/1 : AC3 starting\n",
        "\n",
        "-----Before AC-3\n",
        "Number of arcs: 316932\n",
        "Total values: 105409\n",
        "Size of largest domain: 49\n",
        "\n",
        "-----AC-3 take 3617.616739988327 ms\n",
        "\n",
        "-----After AC-3\n",
        "Total values: 0\n",
        "Size of largest domain: 0"
      ]
    },
    {
      "cell_type": "code",
      "metadata": {
        "colab": {
          "base_uri": "https://localhost:8080/"
        },
        "id": "Hw6tlTwJUbCO",
        "outputId": "d32f8ffa-e5ed-4142-ca05-aa733f773961"
      },
      "source": [
        "!python solver.py --edge=2 --sample=1 --level=0.1"
      ],
      "execution_count": null,
      "outputs": [
        {
          "name": "stdout",
          "output_type": "stream",
          "text": [
            "\n",
            "Sudoku 1/1\n",
            "Creating...\n",
            "1/1 : AC3 starting\n",
            "\n",
            "-----Before AC-3\n",
            "Number of arcs: 112\n",
            "Total values: 58\n",
            "Size of largest domain: 4\n",
            "\n",
            "-----AC-3 take 0.0006196498870849609 ms\n",
            "\n",
            "-----After AC-3\n",
            "Total values: 48\n",
            "Size of largest domain: 4\n"
          ]
        }
      ]
    },
    {
      "cell_type": "code",
      "metadata": {
        "colab": {
          "base_uri": "https://localhost:8080/"
        },
        "id": "jYgui1WX1ZHn",
        "outputId": "c6e6ec2d-4c9f-4e8c-f60c-c71910660f89"
      },
      "source": [
        "!python solver.py --edge=3 --sample=1 --level=0.1"
      ],
      "execution_count": null,
      "outputs": [
        {
          "name": "stdout",
          "output_type": "stream",
          "text": [
            "\n",
            "Sudoku 1/1\n",
            "Creating...\n",
            "1/1 : AC3 starting\n",
            "\n",
            "-----Before AC-3\n",
            "Number of arcs: 1620\n",
            "Total values: 649\n",
            "Size of largest domain: 9\n",
            "\n",
            "-----AC-3 take 0.0477595329284668 ms\n",
            "\n",
            "-----After AC-3\n",
            "Total values: 0\n",
            "Size of largest domain: 0\n"
          ]
        }
      ]
    },
    {
      "cell_type": "code",
      "metadata": {
        "colab": {
          "base_uri": "https://localhost:8080/"
        },
        "id": "uVoJedyQ1v-H",
        "outputId": "250f75f1-bb20-4925-df92-a1b0bc1405f4"
      },
      "source": [
        "!python solver.py --edge=4 --sample=1 --level=0.1"
      ],
      "execution_count": null,
      "outputs": [
        {
          "name": "stdout",
          "output_type": "stream",
          "text": [
            "\n",
            "Sudoku 1/1\n",
            "Creating...\n",
            "1/1 : AC3 starting\n",
            "\n",
            "-----Before AC-3\n",
            "Number of arcs: 9984\n",
            "Total values: 3646\n",
            "Size of largest domain: 16\n",
            "\n",
            "-----AC-3 take 0.5775003433227539 ms\n",
            "\n",
            "-----After AC-3\n",
            "Total values: 0\n",
            "Size of largest domain: 0\n"
          ]
        }
      ]
    },
    {
      "cell_type": "code",
      "metadata": {
        "colab": {
          "base_uri": "https://localhost:8080/"
        },
        "id": "ynDk_b_Z2B6O",
        "outputId": "2616de25-8198-4c16-9516-ba430046a1ba"
      },
      "source": [
        "!python solver.py --edge=5 --sample=1 --level=0.1"
      ],
      "execution_count": null,
      "outputs": [
        {
          "name": "stdout",
          "output_type": "stream",
          "text": [
            "\n",
            "Sudoku 1/1\n",
            "Creating...\n",
            "1/1 : AC3 starting\n",
            "\n",
            "-----Before AC-3\n",
            "Number of arcs: 40000\n",
            "Total values: 13969\n",
            "Size of largest domain: 25\n",
            "\n",
            "-----AC-3 take 17.493358612060547 ms\n",
            "\n",
            "-----After AC-3\n",
            "Total values: 0\n",
            "Size of largest domain: 0\n"
          ]
        }
      ]
    },
    {
      "cell_type": "code",
      "metadata": {
        "colab": {
          "base_uri": "https://localhost:8080/"
        },
        "id": "HQFQPQAIuVLE",
        "outputId": "49facfdb-6f96-4dbc-cc4b-dee6975f9828"
      },
      "source": [
        "!python solver.py --edge=3 --sample=1 --level=0.1"
      ],
      "execution_count": null,
      "outputs": [
        {
          "name": "stdout",
          "output_type": "stream",
          "text": [
            "\n",
            "Sudoku 1/1 : \n",
            "[0][0][0][0][0][0][0][0][0]\n",
            "[0][0][0][0][0][0][0][8][0]\n",
            "[0][0][0][0][0][2][0][0][0]\n",
            "[0][0][0][0][8][0][0][0][0]\n",
            "[0][0][0][0][0][0][0][0][0]\n",
            "[0][0][0][0][0][0][0][0][0]\n",
            "[0][0][0][0][0][0][0][3][0]\n",
            "[0][0][0][0][0][3][0][0][0]\n",
            "[0][0][0][8][0][0][0][0][0]\n",
            "\n",
            "1/1 : AC3 starting\n",
            "\n",
            "-----Before AC-3\n",
            "Number of arcs: 81\n",
            "Total values: 681\n",
            "Size of largest domain: 9\n",
            "\n",
            "-----AC-3 take 0.040430307388305664 ms\n",
            "\n",
            "-----After AC-3\n",
            "Number of arcs: 81\n",
            "nTotal values: 583\n",
            "Size of largest domain: 9\n",
            "1/1 : AC3 finished, you wanna run backtracking? (Y/N)\n"
          ]
        }
      ]
    },
    {
      "cell_type": "markdown",
      "metadata": {
        "id": "JsKgKY3YsIYq"
      },
      "source": [
        "Backtracking\n"
      ]
    },
    {
      "cell_type": "code",
      "metadata": {
        "colab": {
          "base_uri": "https://localhost:8080/"
        },
        "id": "G-UG5oe85o_K",
        "outputId": "b76accae-e7b5-49d8-a00d-2751ea26b420"
      },
      "source": [
        "!python solver.py --edge=3 --sample=1 --level=0.2"
      ],
      "execution_count": 2,
      "outputs": [
        {
          "output_type": "stream",
          "text": [
            "\n",
            "Sudoku 1/1 : \n",
            "[1][0][2][3][0][0][0][0][4]\n",
            "[3][0][0][0][0][0][0][1][0]\n",
            "[0][0][0][0][0][0][0][0][0]\n",
            "[2][0][1][0][0][3][0][0][0]\n",
            "[0][0][0][0][0][1][0][0][0]\n",
            "[0][0][0][0][0][0][1][0][0]\n",
            "[4][0][0][1][3][0][0][0][0]\n",
            "[5][1][0][0][0][0][0][0][3]\n",
            "[6][2][0][4][0][0][0][0][0]\n",
            "\n",
            "1/1 : AC3 starting\n",
            "\n",
            "-----Before AC-3\n",
            "Number of arcs: 1620\n",
            "Total values: 569\n",
            "Size of largest domain: 9\n",
            "\n",
            "-----AC-3 take 0.03637528419494629 s\n",
            "\n",
            "-----After AC-3\n",
            "Number of arcs: 1620\n",
            "nTotal values: 367\n",
            "Size of largest domain: 8\n",
            "Backtracking starting...\n",
            "Backtracking take 0.0023217201232910156 s\n",
            "1/1 : Result: \n",
            "[1][6][2][3][9][8][7][5][4]\n",
            "[3][8][4][7][5][6][2][1][9]\n",
            "[7][9][5][2][1][4][3][8][6]\n",
            "[2][4][1][9][7][3][5][6][8]\n",
            "[8][3][7][5][6][1][4][9][2]\n",
            "[9][5][6][8][4][2][1][3][7]\n",
            "[4][7][8][1][3][9][6][2][5]\n",
            "[5][1][9][6][2][7][8][4][3]\n",
            "[6][2][3][4][8][5][9][7][1]\n",
            "\n",
            "Do you wanna compare to Backtracking-only?(n = No)\n",
            "------Backtracking-only starting...\n",
            "Backtracking take 0.006898641586303711 s\n",
            "1/1 : Result: \n",
            "[1][5][2][3][6][7][8][9][4]\n",
            "[3][6][4][5][8][9][7][1][2]\n",
            "[8][9][7][2][1][4][5][3][6]\n",
            "[2][8][1][6][9][3][4][5][7]\n",
            "[9][4][5][7][2][1][3][6][8]\n",
            "[7][3][6][8][4][5][1][2][9]\n",
            "[4][7][9][1][3][2][6][8][5]\n",
            "[5][1][8][9][7][6][2][4][3]\n",
            "[6][2][3][4][5][8][9][7][1]\n",
            "\n"
          ],
          "name": "stdout"
        }
      ]
    },
    {
      "cell_type": "code",
      "metadata": {
        "colab": {
          "base_uri": "https://localhost:8080/"
        },
        "id": "2NVJbTiK5qE_",
        "outputId": "63ce0f29-61ba-446d-ef05-09891ec1aa00"
      },
      "source": [
        "!python solver.py --edge=4 --sample=1 --level=0.2"
      ],
      "execution_count": null,
      "outputs": [
        {
          "output_type": "stream",
          "text": [
            "\n",
            "Sudoku 1/1 : \n",
            "[00][01][02][00][00][03][00][00][00][00][00][04][05][00][00][06]\n",
            "[00][03][04][00][00][01][00][00][00][00][00][02][00][00][00][07]\n",
            "[00][00][05][00][00][02][04][00][00][01][00][03][00][00][00][00]\n",
            "[00][00][00][00][00][00][05][06][07][08][00][09][00][00][00][00]\n",
            "[00][00][00][00][00][00][00][00][00][00][00][00][00][00][00][05]\n",
            "[00][00][00][00][00][00][00][00][00][00][00][00][00][00][00][01]\n",
            "[01][00][00][05][00][00][00][03][00][00][00][00][00][06][00][00]\n",
            "[00][00][00][00][00][00][00][00][00][00][00][00][00][03][07][00]\n",
            "[00][00][00][01][00][00][00][00][00][00][00][00][00][00][05][03]\n",
            "[00][00][00][00][00][05][00][00][00][00][01][00][00][00][00][00]\n",
            "[00][05][03][00][00][00][01][00][00][00][00][00][00][00][06][00]\n",
            "[02][04][00][00][00][00][03][00][00][00][00][00][01][07][08][00]\n",
            "[00][00][00][00][00][00][02][01][03][00][00][05][00][00][00][00]\n",
            "[00][00][00][03][00][00][00][00][00][00][00][00][00][05][01][00]\n",
            "[05][02][00][00][00][00][00][00][01][00][04][00][03][00][00][00]\n",
            "[04][06][00][07][00][08][00][00][00][02][00][00][00][00][00][00]\n",
            "\n",
            "1/1 : AC3 starting\n",
            "\n",
            "-----Before AC-3\n",
            "Number of arcs: 9984\n",
            "Total values: 3181\n",
            "Size of largest domain: 16\n",
            "\n",
            "-----AC-3 take 1.0883541107177734 s\n",
            "\n",
            "-----After AC-3\n",
            "Number of arcs: 9984\n",
            "nTotal values: 2024\n",
            "Size of largest domain: 14\n",
            "Backtracking starting...\n",
            "Backtracking take 0.023912906646728516 s\n",
            "1/1 : Result: \n",
            "[07][01][02][08][15][03][16][14][10][11][12][04][05][13][09][06]\n",
            "[06][03][04][11][08][01][09][13][05][15][16][02][10][14][12][07]\n",
            "[09][10][05][13][07][02][04][12][06][01][14][03][08][15][11][16]\n",
            "[12][15][16][14][10][11][05][06][07][08][13][09][02][01][03][04]\n",
            "[03][07][06][09][01][15][11][16][08][14][10][12][13][04][02][05]\n",
            "[11][12][15][02][13][07][14][08][04][05][03][06][09][16][10][01]\n",
            "[01][14][13][05][04][12][10][03][02][09][07][16][11][06][15][08]\n",
            "[08][16][10][04][05][09][06][02][15][13][11][01][14][03][07][12]\n",
            "[16][08][09][01][06][10][13][11][14][12][15][07][04][02][05][03]\n",
            "[15][13][07][06][02][05][08][04][09][03][01][11][16][12][14][10]\n",
            "[14][05][03][10][12][16][01][07][13][04][02][08][15][11][06][09]\n",
            "[02][04][11][12][09][14][03][15][16][06][05][10][01][07][08][13]\n",
            "[10][09][12][15][14][13][02][01][03][16][06][05][07][08][04][11]\n",
            "[13][11][14][03][16][04][07][09][12][10][08][15][06][05][01][02]\n",
            "[05][02][08][16][11][06][12][10][01][07][04][14][03][09][13][15]\n",
            "[04][06][01][07][03][08][15][05][11][02][09][13][12][10][16][14]\n",
            "\n",
            "Do you wanna compare to Backtracking-only?(n = No)y\n",
            "------Backtracking-only starting...\n"
          ],
          "name": "stdout"
        }
      ]
    },
    {
      "cell_type": "code",
      "metadata": {
        "colab": {
          "base_uri": "https://localhost:8080/"
        },
        "id": "L3vHY7ywsCqo",
        "outputId": "e7380322-5f56-4d85-817a-dd272fd9a583"
      },
      "source": [
        "!python solver.py --edge=3 --sample=1 --level=0.3"
      ],
      "execution_count": null,
      "outputs": [
        {
          "name": "stdout",
          "output_type": "stream",
          "text": [
            "\n",
            "Sudoku 1/1 : \n",
            "[1][0][2][0][0][0][0][3][0]\n",
            "[0][0][3][1][2][0][4][0][0]\n",
            "[0][0][0][0][0][0][0][0][1]\n",
            "[0][1][0][0][3][2][5][0][0]\n",
            "[0][0][0][0][0][0][0][1][3]\n",
            "[0][0][5][0][0][0][2][4][6]\n",
            "[0][0][0][2][1][0][0][0][4]\n",
            "[0][0][1][0][0][0][0][0][0]\n",
            "[0][0][0][0][0][0][1][0][0]\n",
            "\n",
            "1/1 : AC3 starting\n",
            "\n",
            "-----Before AC-3\n",
            "Number of arcs: 1620\n",
            "Total values: 545\n",
            "Size of largest domain: 9\n",
            "\n",
            "-----AC-3 take 0.03556323051452637 s\n",
            "\n",
            "-----After AC-3\n",
            "Number of arcs: 1620\n",
            "nTotal values: 339\n",
            "Size of largest domain: 8\n",
            "Backtracking starting...\n",
            "Backtracking take 0.002374410629272461 s\n",
            "1/1 : Result: \n",
            "[1][4][2][7][8][9][6][3][5]\n",
            "[5][7][3][1][2][6][4][8][9]\n",
            "[8][9][6][3][4][5][7][2][1]\n",
            "[4][1][9][6][3][2][5][7][8]\n",
            "[6][2][8][5][7][4][9][1][3]\n",
            "[7][3][5][8][9][1][2][4][6]\n",
            "[9][5][7][2][1][8][3][6][4]\n",
            "[3][6][1][4][5][7][8][9][2]\n",
            "[2][8][4][9][6][3][1][5][7]\n",
            "\n",
            "------Backtracking-only starting...\n",
            "Backtracking take 0.0033714771270751953 s\n",
            "1/1 : Result: \n",
            "[1][4][2][5][6][7][8][3][9]\n",
            "[6][9][3][1][2][8][4][5][7]\n",
            "[8][5][7][4][9][3][6][2][1]\n",
            "[7][1][4][6][3][2][5][9][8]\n",
            "[2][6][9][8][4][5][7][1][3]\n",
            "[3][8][5][9][7][1][2][4][6]\n",
            "[5][7][8][2][1][9][3][6][4]\n",
            "[4][2][1][3][8][6][9][7][5]\n",
            "[9][3][6][7][5][4][1][8][2]\n",
            "\n"
          ]
        }
      ]
    },
    {
      "cell_type": "code",
      "metadata": {
        "colab": {
          "base_uri": "https://localhost:8080/"
        },
        "id": "FBdks_uLsD_s",
        "outputId": "8548aa8b-e1f0-42b4-860e-7fea68377e89"
      },
      "source": [
        "!python solver.py --edge=4 --sample=1 --level=0.3"
      ],
      "execution_count": null,
      "outputs": [
        {
          "name": "stdout",
          "output_type": "stream",
          "text": [
            "\n",
            "Sudoku 1/1 : \n",
            "[00][01][00][00][00][00][00][00][00][02][03][00][00][00][00][00]\n",
            "[02][00][00][00][00][00][01][00][04][00][00][05][00][03][06][07]\n",
            "[03][00][00][00][02][00][00][00][00][00][00][01][04][00][00][00]\n",
            "[04][05][06][07][00][00][03][00][00][00][00][00][01][02][08][09]\n",
            "[00][00][00][00][00][00][00][01][00][00][00][00][02][00][00][00]\n",
            "[00][00][00][00][03][00][02][00][00][00][00][00][00][01][04][00]\n",
            "[00][02][00][00][04][00][00][05][00][00][00][00][03][06][07][00]\n",
            "[00][03][00][00][06][00][00][00][00][00][02][00][00][00][05][08]\n",
            "[01][00][02][00][00][00][04][00][03][00][00][00][00][00][00][06]\n",
            "[06][00][00][00][00][00][00][00][00][00][00][00][07][00][00][00]\n",
            "[00][00][00][00][00][00][00][00][02][00][00][04][05][00][00][00]\n",
            "[05][04][00][03][00][00][00][00][01][00][00][00][00][08][02][00]\n",
            "[07][06][00][00][00][02][00][03][00][00][00][00][08][00][00][00]\n",
            "[00][00][03][02][00][00][00][00][00][01][00][00][00][00][09][04]\n",
            "[00][00][00][00][00][00][00][00][06][00][00][00][00][00][00][02]\n",
            "[08][09][00][00][00][00][06][00][00][00][00][00][00][00][03][00]\n",
            "\n",
            "1/1 : AC3 starting\n",
            "\n",
            "-----Before AC-3\n",
            "Number of arcs: 9984\n",
            "Total values: 3016\n",
            "Size of largest domain: 16\n",
            "\n",
            "-----AC-3 take 1.0324110984802246 s\n",
            "\n",
            "-----After AC-3\n",
            "Number of arcs: 9984\n",
            "nTotal values: 1804\n",
            "Size of largest domain: 14\n",
            "Backtracking starting...\n",
            "Backtracking take 0.01694512367248535 s\n",
            "1/1 : Result: \n",
            "[09][01][08][12][07][04][13][16][15][02][03][06][10][05][11][14]\n",
            "[02][13][15][16][09][10][01][11][04][08][14][05][12][03][06][07]\n",
            "[03][10][11][14][02][06][05][08][07][09][12][01][04][15][13][16]\n",
            "[04][05][06][07][15][12][03][14][10][11][13][16][01][02][08][09]\n",
            "[13][07][04][11][14][15][16][01][08][06][05][03][02][09][10][12]\n",
            "[12][08][05][06][03][13][02][10][09][15][07][14][16][01][04][11]\n",
            "[14][02][10][15][04][08][09][05][12][16][01][11][03][06][07][13]\n",
            "[16][03][09][01][06][11][07][12][13][04][02][10][15][14][05][08]\n",
            "[01][12][02][08][05][16][04][15][03][07][10][13][09][11][14][06]\n",
            "[06][14][13][09][12][01][10][02][16][05][11][08][07][04][15][03]\n",
            "[11][15][07][10][13][03][08][06][02][14][09][04][05][12][16][01]\n",
            "[05][04][16][03][11][07][14][09][01][12][06][15][13][08][02][10]\n",
            "[07][06][14][04][16][02][12][03][11][13][15][09][08][10][01][05]\n",
            "[15][16][03][02][10][05][11][13][14][01][08][12][06][07][09][04]\n",
            "[10][11][01][05][08][09][15][04][06][03][16][07][14][13][12][02]\n",
            "[08][09][12][13][01][14][06][07][05][10][04][02][11][16][03][15]\n",
            "\n",
            "------Backtracking-only starting...\n",
            "Traceback (most recent call last):\n",
            "  File \"solver.py\", line 154, in <module>\n",
            "    solve(samples.grid[i], i+1, args.sample, args.edge**2)\n",
            "  File \"solver.py\", line 105, in solve\n",
            "    assignment = recursive_backtrack_algorithm(assignment, sudoku2)\n",
            "  File \"/content/backtrack.py\", line 31, in recursive_backtrack_algorithm\n",
            "    result = recursive_backtrack_algorithm(assignment, sudoku)\n",
            "  File \"/content/backtrack.py\", line 31, in recursive_backtrack_algorithm\n",
            "    result = recursive_backtrack_algorithm(assignment, sudoku)\n",
            "  File \"/content/backtrack.py\", line 31, in recursive_backtrack_algorithm\n",
            "    result = recursive_backtrack_algorithm(assignment, sudoku)\n",
            "  [Previous line repeated 31 more times]\n",
            "  File \"/content/backtrack.py\", line 15, in recursive_backtrack_algorithm\n",
            "    cell = select_unassigned_variable(assignment, sudoku)\n",
            "  File \"/content/heuristics.py\", line 15, in select_unassigned_variable\n",
            "    unassigned.append(cell)\n",
            "KeyboardInterrupt\n",
            "^C\n"
          ]
        }
      ]
    },
    {
      "cell_type": "code",
      "metadata": {
        "colab": {
          "base_uri": "https://localhost:8080/"
        },
        "id": "JqRK8IeEsTyd",
        "outputId": "2d8c65d8-adea-48be-e7a3-5eced09748f2"
      },
      "source": [
        "!python solver.py --edge=3 --sample=1 --level=0.4"
      ],
      "execution_count": null,
      "outputs": [
        {
          "name": "stdout",
          "output_type": "stream",
          "text": [
            "\n",
            "Sudoku 1/1 : \n",
            "[0][0][1][2][0][3][4][0][5]\n",
            "[0][0][0][1][0][0][2][3][6]\n",
            "[2][0][3][4][5][6][0][1][7]\n",
            "[0][0][2][0][0][0][1][4][3]\n",
            "[1][0][0][3][2][4][0][5][0]\n",
            "[3][0][0][0][0][1][0][0][0]\n",
            "[4][1][5][0][3][2][0][6][0]\n",
            "[0][0][6][0][1][5][3][0][4]\n",
            "[0][0][7][0][4][8][5][2][1]\n",
            "\n",
            "1/1 : AC3 starting\n",
            "\n",
            "-----Before AC-3\n",
            "Number of arcs: 1620\n",
            "Total values: 377\n",
            "Size of largest domain: 9\n",
            "\n",
            "-----AC-3 take 0.022188425064086914 s\n",
            "\n",
            "-----After AC-3\n",
            "Number of arcs: 1620\n",
            "nTotal values: 147\n",
            "Size of largest domain: 6\n",
            "Backtracking starting...\n",
            "Backtracking take 0.000720977783203125 s\n",
            "1/1 : Result: \n",
            "[6][7][1][2][9][3][4][8][5]\n",
            "[5][9][4][1][8][7][2][3][6]\n",
            "[2][8][3][4][5][6][9][1][7]\n",
            "[7][5][2][8][6][9][1][4][3]\n",
            "[1][6][9][3][2][4][7][5][8]\n",
            "[3][4][8][5][7][1][6][9][2]\n",
            "[4][1][5][7][3][2][8][6][9]\n",
            "[8][2][6][9][1][5][3][7][4]\n",
            "[9][3][7][6][4][8][5][2][1]\n",
            "\n",
            "------Backtracking-only starting...\n",
            "Backtracking take 0.005853891372680664 s\n",
            "1/1 : Result: \n",
            "[6][7][1][2][8][3][4][9][5]\n",
            "[5][8][4][1][9][7][2][3][6]\n",
            "[2][9][3][4][5][6][8][1][7]\n",
            "[7][5][2][8][6][9][1][4][3]\n",
            "[1][6][8][3][2][4][7][5][9]\n",
            "[3][4][9][5][7][1][6][8][2]\n",
            "[4][1][5][7][3][2][9][6][8]\n",
            "[8][2][6][9][1][5][3][7][4]\n",
            "[9][3][7][6][4][8][5][2][1]\n",
            "\n"
          ]
        }
      ]
    },
    {
      "cell_type": "code",
      "metadata": {
        "colab": {
          "background_save": true,
          "base_uri": "https://localhost:8080/"
        },
        "id": "7yt8DPDos2jD",
        "outputId": "d06300b8-bebd-492d-ee87-bb5e1188a944"
      },
      "source": [
        "!python solver.py --edge=4 --sample=1 --level=0.35"
      ],
      "execution_count": null,
      "outputs": [
        {
          "name": "stdout",
          "output_type": "stream",
          "text": [
            "\n",
            "Sudoku 1/1 : \n",
            "[01][00][02][00][03][00][00][04][05][06][00][07][08][00][00][00]\n",
            "[00][00][00][00][00][00][00][01][00][02][00][00][00][00][00][00]\n",
            "[00][03][00][00][02][00][00][05][00][01][04][00][00][00][00][06]\n",
            "[04][00][00][05][00][00][06][00][00][03][08][00][00][01][00][00]\n",
            "[00][01][03][02][00][00][04][06][00][00][05][00][00][08][00][07]\n",
            "[00][00][00][04][00][00][00][03][00][00][00][00][00][00][00][01]\n",
            "[00][00][05][06][01][02][00][00][00][00][03][04][00][00][00][09]\n",
            "[07][00][00][08][00][05][00][00][01][09][06][00][03][00][00][04]\n",
            "[02][00][00][01][00][00][00][08][00][00][00][03][00][04][00][00]\n",
            "[00][04][08][03][00][00][00][00][00][05][00][00][01][00][00][02]\n",
            "[05][06][07][00][04][01][00][00][00][00][00][00][00][00][08][00]\n",
            "[00][00][00][00][05][00][00][00][00][00][01][00][00][03][00][00]\n",
            "[00][02][00][00][00][04][01][07][00][08][00][05][00][00][00][00]\n",
            "[00][00][00][07][06][03][00][00][00][04][02][01][05][00][00][08]\n",
            "[00][00][00][09][00][00][00][00][00][07][10][06][00][02][01][00]\n",
            "[03][05][00][00][00][08][02][09][11][12][00][13][00][07][00][00]\n",
            "\n",
            "1/1 : AC3 starting\n",
            "\n",
            "-----Before AC-3\n",
            "Number of arcs: 9984\n",
            "Total values: 2641\n",
            "Size of largest domain: 16\n",
            "\n",
            "-----AC-3 take 0.8200600147247314 s\n",
            "\n",
            "-----After AC-3\n",
            "Number of arcs: 9984\n",
            "nTotal values: 1337\n",
            "Size of largest domain: 12\n",
            "Backtracking starting...\n"
          ]
        }
      ]
    },
    {
      "cell_type": "code",
      "metadata": {
        "id": "-i-F-WmIs3pJ"
      },
      "source": [
        ""
      ],
      "execution_count": null,
      "outputs": []
    }
  ]
}